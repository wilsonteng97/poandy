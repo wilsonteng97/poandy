{
 "cells": [
  {
   "cell_type": "code",
   "execution_count": 2,
   "metadata": {},
   "outputs": [],
   "source": [
    "import pandas as pd\n",
    "\n",
    "from poandy.controller.order import OrderController\n",
    "from poandy.controller.position import PositionController\n",
    "from poandy.controller.account import AccountController\n",
    "from poandy.util.utils import Utils\n",
    "\n",
    "import time"
   ]
  },
  {
   "cell_type": "markdown",
   "metadata": {},
   "source": [
    "The bid price represents the maximum price that a buyer is willing to pay for a unit of X. The ask price represents the minimum price that a seller is willing to take for that same unit of X."
   ]
  },
  {
   "cell_type": "code",
   "execution_count": 3,
   "metadata": {},
   "outputs": [],
   "source": [
    "account_id = AccountController.get_default_account_id()"
   ]
  },
  {
   "cell_type": "code",
   "execution_count": 4,
   "metadata": {},
   "outputs": [],
   "source": [
    "def buy(account_id):\n",
    "    return OrderController.create_order(\n",
    "        account_id,\n",
    "        \"MARKET\",\n",
    "        \"100000\",\n",
    "        \"EUR_USD\",\n",
    "        \"FOK\",\n",
    "        \"DEFAULT\"\n",
    "    )"
   ]
  },
  {
   "cell_type": "code",
   "execution_count": 5,
   "metadata": {},
   "outputs": [],
   "source": [
    "def long(account_id):\n",
    "    return PositionController.close_instrument_positions(account_id, \"EUR_USD\", long_units=\"ALL\")"
   ]
  },
  {
   "cell_type": "markdown",
   "metadata": {},
   "source": [
    "Sample buy and close:"
   ]
  },
  {
   "cell_type": "code",
   "execution_count": 6,
   "metadata": {},
   "outputs": [
    {
     "output_type": "execute_result",
     "data": {
      "text/plain": "{'orderCreateTransaction': {'type': 'MARKET_ORDER',\n  'instrument': 'EUR_USD',\n  'units': '100000',\n  'timeInForce': 'FOK',\n  'positionFill': 'DEFAULT',\n  'reason': 'CLIENT_ORDER',\n  'id': '12',\n  'accountID': '101-003-16386799-001',\n  'userID': 16386799,\n  'batchID': '12',\n  'requestID': '42737675088489848',\n  'time': '1599521176.879484958'},\n 'orderFillTransaction': {'type': 'ORDER_FILL',\n  'orderID': '12',\n  'instrument': 'EUR_USD',\n  'units': '100000',\n  'requestedUnits': '100000',\n  'price': '1.18187',\n  'pl': '0.0000',\n  'financing': '0.0000',\n  'commission': '0.0000',\n  'accountBalance': '99889.9629',\n  'gainQuoteHomeConversionFactor': '1.35960780',\n  'lossQuoteHomeConversionFactor': '1.37327220',\n  'guaranteedExecutionFee': '0.0000',\n  'halfSpreadCost': '5.4658',\n  'fullVWAP': '1.18187',\n  'reason': 'MARKET_ORDER',\n  'tradeOpened': {'price': '1.18187',\n   'tradeID': '13',\n   'units': '100000',\n   'guaranteedExecutionFee': '0.0000',\n   'halfSpreadCost': '5.4658',\n   'initialMarginRequired': '8074.5000'},\n  'fullPrice': {'closeoutBid': '1.18175',\n   'closeoutAsk': '1.18191',\n   'timestamp': '1599521147.165142270',\n   'bids': [{'price': '1.18179', 'liquidity': '1000000'},\n    {'price': '1.18178', 'liquidity': '2000000'},\n    {'price': '1.18177', 'liquidity': '2000000'},\n    {'price': '1.18175', 'liquidity': '5000000'}],\n   'asks': [{'price': '1.18187', 'liquidity': '1000000'},\n    {'price': '1.18189', 'liquidity': '2000000'},\n    {'price': '1.18190', 'liquidity': '2000000'},\n    {'price': '1.18191', 'liquidity': '5000000'}]},\n  'id': '13',\n  'accountID': '101-003-16386799-001',\n  'userID': 16386799,\n  'batchID': '12',\n  'requestID': '42737675088489848',\n  'time': '1599521176.879484958'},\n 'relatedTransactionIDs': ['12', '13'],\n 'lastTransactionID': '13'}"
     },
     "metadata": {},
     "execution_count": 6
    }
   ],
   "source": [
    "buy(account_id)"
   ]
  },
  {
   "cell_type": "code",
   "execution_count": 7,
   "metadata": {},
   "outputs": [
    {
     "output_type": "execute_result",
     "data": {
      "text/plain": "{'longOrderCreateTransaction': {'type': 'MARKET_ORDER',\n  'instrument': 'EUR_USD',\n  'units': '-100000',\n  'timeInForce': 'FOK',\n  'positionFill': 'REDUCE_ONLY',\n  'reason': 'POSITION_CLOSEOUT',\n  'longPositionCloseout': {'instrument': 'EUR_USD', 'units': 'ALL'},\n  'id': '14',\n  'accountID': '101-003-16386799-001',\n  'userID': 16386799,\n  'batchID': '14',\n  'requestID': '42737675092685576',\n  'time': '1599521177.632469064'},\n 'longOrderFillTransaction': {'type': 'ORDER_FILL',\n  'orderID': '14',\n  'instrument': 'EUR_USD',\n  'units': '-100000',\n  'requestedUnits': '-100000',\n  'price': '1.18179',\n  'pl': '-10.9862',\n  'financing': '0.0000',\n  'commission': '0.0000',\n  'accountBalance': '99878.9767',\n  'gainQuoteHomeConversionFactor': '1.35960780',\n  'lossQuoteHomeConversionFactor': '1.37327220',\n  'guaranteedExecutionFee': '0.0000',\n  'halfSpreadCost': '5.4658',\n  'fullVWAP': '1.18179',\n  'reason': 'MARKET_ORDER_POSITION_CLOSEOUT',\n  'tradesClosed': [{'tradeID': '13',\n    'units': '-100000',\n    'realizedPL': '-10.9862',\n    'financing': '0.0000',\n    'price': '1.18179',\n    'guaranteedExecutionFee': '0.0000',\n    'halfSpreadCost': '5.4658'}],\n  'fullPrice': {'closeoutBid': '1.18175',\n   'closeoutAsk': '1.18191',\n   'timestamp': '1599521147.165142270',\n   'bids': [{'price': '1.18179', 'liquidity': '1000000'},\n    {'price': '1.18178', 'liquidity': '2000000'},\n    {'price': '1.18177', 'liquidity': '2000000'},\n    {'price': '1.18175', 'liquidity': '5000000'}],\n   'asks': [{'price': '1.18187', 'liquidity': '900000'},\n    {'price': '1.18189', 'liquidity': '2000000'},\n    {'price': '1.18190', 'liquidity': '2000000'},\n    {'price': '1.18191', 'liquidity': '5000000'}]},\n  'id': '15',\n  'accountID': '101-003-16386799-001',\n  'userID': 16386799,\n  'batchID': '14',\n  'requestID': '42737675092685576',\n  'time': '1599521177.632469064'},\n 'relatedTransactionIDs': ['14', '15'],\n 'lastTransactionID': '15'}"
     },
     "metadata": {},
     "execution_count": 7
    }
   ],
   "source": [
    "long(account_id)"
   ]
  },
  {
   "cell_type": "code",
   "execution_count": 8,
   "metadata": {},
   "outputs": [],
   "source": [
    "res = []"
   ]
  },
  {
   "cell_type": "code",
   "execution_count": 9,
   "metadata": {
    "tags": [
     "outputPrepend"
    ]
   },
   "outputs": [
    {
     "output_type": "stream",
     "name": "stdout",
     "text": "Transaction'\n'orderFillTransaction'\n'orderFillTransaction'\n'orderFillTransaction'\n'orderFillTransaction'\n'orderFillTransaction'\n'orderFillTransaction'\n'orderFillTransaction'\n'orderFillTransaction'\n'orderFillTransaction'\n'orderFillTransaction'\n'orderFillTransaction'\n'orderFillTransaction'\n'orderFillTransaction'\n'orderFillTransaction'\n'orderFillTransaction'\n'orderFillTransaction'\n'orderFillTransaction'\n'orderFillTransaction'\n'orderFillTransaction'\n'orderFillTransaction'\n'orderFillTransaction'\n'orderFillTransaction'\n'orderFillTransaction'\n'orderFillTransaction'\n'orderFillTransaction'\n'orderFillTransaction'\n'orderFillTransaction'\n'orderFillTransaction'\n'orderFillTransaction'\n'orderFillTransaction'\n'orderFillTransaction'\n'orderFillTransaction'\n'orderFillTransaction'\n'orderFillTransaction'\n'orderFillTransaction'\n'orderFillTransaction'\n'orderFillTransaction'\n'orderFillTransaction'\n'orderFillTransaction'\n'orderFillTransaction'\n'orderFillTransaction'\n'orderFillTransaction'\n'orderFillTransaction'\n'orderFillTransaction'\n'orderFillTransaction'\n'orderFillTransaction'\n'orderFillTransaction'\n'orderFillTransaction'\n'orderFillTransaction'\n'orderFillTransaction'\n'orderFillTransaction'\n'orderFillTransaction'\n'orderFillTransaction'\n'orderFillTransaction'\n'orderFillTransaction'\n'orderFillTransaction'\n'orderFillTransaction'\n'orderFillTransaction'\n'orderFillTransaction'\n'orderFillTransaction'\n'orderFillTransaction'\n'orderFillTransaction'\n'orderFillTransaction'\n'orderFillTransaction'\n'orderFillTransaction'\n'orderFillTransaction'\n'orderFillTransaction'\n'orderFillTransaction'\n'orderFillTransaction'\n'orderFillTransaction'\n'orderFillTransaction'\n'orderFillTransaction'\n'orderFillTransaction'\n'orderFillTransaction'\n'orderFillTransaction'\n'orderFillTransaction'\n'orderFillTransaction'\n'orderFillTransaction'\n'orderFillTransaction'\n'orderFillTransaction'\n'orderFillTransaction'\n'orderFillTransaction'\n'orderFillTransaction'\n'orderFillTransaction'\n'orderFillTransaction'\n'orderFillTransaction'\n'orderFillTransaction'\n'orderFillTransaction'\n'orderFillTransaction'\n'orderFillTransaction'\n'orderFillTransaction'\n'orderFillTransaction'\n'orderFillTransaction'\n'orderFillTransaction'\n'orderFillTransaction'\n'orderFillTransaction'\n'orderFillTransaction'\n'orderFillTransaction'\n'orderFillTransaction'\n'orderFillTransaction'\n'orderFillTransaction'\n'orderFillTransaction'\n'orderFillTransaction'\n'orderFillTransaction'\n'orderFillTransaction'\n'orderFillTransaction'\n'orderFillTransaction'\n'orderFillTransaction'\n'orderFillTransaction'\n'orderFillTransaction'\n'orderFillTransaction'\n'orderFillTransaction'\n'orderFillTransaction'\n'orderFillTransaction'\n'orderFillTransaction'\n'orderFillTransaction'\n'orderFillTransaction'\n'orderFillTransaction'\n'orderFillTransaction'\n'orderFillTransaction'\n'orderFillTransaction'\n'orderFillTransaction'\n'orderFillTransaction'\n'orderFillTransaction'\n'orderFillTransaction'\n'orderFillTransaction'\n'orderFillTransaction'\n'orderFillTransaction'\n'orderFillTransaction'\n'orderFillTransaction'\n'orderFillTransaction'\n'orderFillTransaction'\n'orderFillTransaction'\n'orderFillTransaction'\n'orderFillTransaction'\n'orderFillTransaction'\n'orderFillTransaction'\n'orderFillTransaction'\n'orderFillTransaction'\n'orderFillTransaction'\n'orderFillTransaction'\n'orderFillTransaction'\n'orderFillTransaction'\n'orderFillTransaction'\n'orderFillTransaction'\n'orderFillTransaction'\n'orderFillTransaction'\n'orderFillTransaction'\n'orderFillTransaction'\n'orderFillTransaction'\n'orderFillTransaction'\n'orderFillTransaction'\n'orderFillTransaction'\n'orderFillTransaction'\n'orderFillTransaction'\n'orderFillTransaction'\n'orderFillTransaction'\n'orderFillTransaction'\n'orderFillTransaction'\n'orderFillTransaction'\n'orderFillTransaction'\n'orderFillTransaction'\n'orderFillTransaction'\n'orderFillTransaction'\n'orderFillTransaction'\n'orderFillTransaction'\n'orderFillTransaction'\n'orderFillTransaction'\n'orderFillTransaction'\n'orderFillTransaction'\n'orderFillTransaction'\n'orderFillTransaction'\n'orderFillTransaction'\n'orderFillTransaction'\n'orderFillTransaction'\n'orderFillTransaction'\n'orderFillTransaction'\n'orderFillTransaction'\n'orderFillTransaction'\n'orderFillTransaction'\n'orderFillTransaction'\n'orderFillTransaction'\n'orderFillTransaction'\n'orderFillTransaction'\n'orderFillTransaction'\n'orderFillTransaction'\n'orderFillTransaction'\n'orderFillTransaction'\n'orderFillTransaction'\n'orderFillTransaction'\n'orderFillTransaction'\n'orderFillTransaction'\n'orderFillTransaction'\n'orderFillTransaction'\n'orderFillTransaction'\n'orderFillTransaction'\n'orderFillTransaction'\n'orderFillTransaction'\n'orderFillTransaction'\n'orderFillTransaction'\n'orderFillTransaction'\n'orderFillTransaction'\n'orderFillTransaction'\n'orderFillTransaction'\n'orderFillTransaction'\n'orderFillTransaction'\n'orderFillTransaction'\n'orderFillTransaction'\n'orderFillTransaction'\n'orderFillTransaction'\n'orderFillTransaction'\n'orderFillTransaction'\n'orderFillTransaction'\n'orderFillTransaction'\n'orderFillTransaction'\n'orderFillTransaction'\n'orderFillTransaction'\n'orderFillTransaction'\n'orderFillTransaction'\n'orderFillTransaction'\n'orderFillTransaction'\n'orderFillTransaction'\n'orderFillTransaction'\n'orderFillTransaction'\n'orderFillTransaction'\n'orderFillTransaction'\n'orderFillTransaction'\n'orderFillTransaction'\n'orderFillTransaction'\n'orderFillTransaction'\n'orderFillTransaction'\n'orderFillTransaction'\n'orderFillTransaction'\n'orderFillTransaction'\n'orderFillTransaction'\n'orderFillTransaction'\n'orderFillTransaction'\n'orderFillTransaction'\n'orderFillTransaction'\n'orderFillTransaction'\n'orderFillTransaction'\n'orderFillTransaction'\n'orderFillTransaction'\n'orderFillTransaction'\n'orderFillTransaction'\n'orderFillTransaction'\n'orderFillTransaction'\n'orderFillTransaction'\n'orderFillTransaction'\n'orderFillTransaction'\n'orderFillTransaction'\n'orderFillTransaction'\n'orderFillTransaction'\n'orderFillTransaction'\n'orderFillTransaction'\n'orderFillTransaction'\n'orderFillTransaction'\n'orderFillTransaction'\n'orderFillTransaction'\n'orderFillTransaction'\n'orderFillTransaction'\n'orderFillTransaction'\n'orderFillTransaction'\n'orderFillTransaction'\n'orderFillTransaction'\n'orderFillTransaction'\n'orderFillTransaction'\n'orderFillTransaction'\n'orderFillTransaction'\n'orderFillTransaction'\n'orderFillTransaction'\n'orderFillTransaction'\n'orderFillTransaction'\n'orderFillTransaction'\n'orderFillTransaction'\n'orderFillTransaction'\n'orderFillTransaction'\n'orderFillTransaction'\n'orderFillTransaction'\n'orderFillTransaction'\n'orderFillTransaction'\n'orderFillTransaction'\n'orderFillTransaction'\n'orderFillTransaction'\n'orderFillTransaction'\n'orderFillTransaction'\n'orderFillTransaction'\n'orderFillTransaction'\n'orderFillTransaction'\n'orderFillTransaction'\n'orderFillTransaction'\n'orderFillTransaction'\n'orderFillTransaction'\n'orderFillTransaction'\n'orderFillTransaction'\n'orderFillTransaction'\n'orderFillTransaction'\n'orderFillTransaction'\n'orderFillTransaction'\n'orderFillTransaction'\n'orderFillTransaction'\n'orderFillTransaction'\n'orderFillTransaction'\n'orderFillTransaction'\n'orderFillTransaction'\n'orderFillTransaction'\n'orderFillTransaction'\n'orderFillTransaction'\n'orderFillTransaction'\n'orderFillTransaction'\n'orderFillTransaction'\n'orderFillTransaction'\n'orderFillTransaction'\n'orderFillTransaction'\n'orderFillTransaction'\n'orderFillTransaction'\n'orderFillTransaction'\n'orderFillTransaction'\n'orderFillTransaction'\n'orderFillTransaction'\n'orderFillTransaction'\n'orderFillTransaction'\n'orderFillTransaction'\n'orderFillTransaction'\n'orderFillTransaction'\n'orderFillTransaction'\n'orderFillTransaction'\n'orderFillTransaction'\n'orderFillTransaction'\n'orderFillTransaction'\n'orderFillTransaction'\n'orderFillTransaction'\n'orderFillTransaction'\n'orderFillTransaction'\n'orderFillTransaction'\n'orderFillTransaction'\n'orderFillTransaction'\n'orderFillTransaction'\n'orderFillTransaction'\n'orderFillTransaction'\n'orderFillTransaction'\n'orderFillTransaction'\n'orderFillTransaction'\n'orderFillTransaction'\n'orderFillTransaction'\n'orderFillTransaction'\n'orderFillTransaction'\n'orderFillTransaction'\n'orderFillTransaction'\n'orderFillTransaction'\n'orderFillTransaction'\n'orderFillTransaction'\n'orderFillTransaction'\n'orderFillTransaction'\n'orderFillTransaction'\n'orderFillTransaction'\n'orderFillTransaction'\n'orderFillTransaction'\n'orderFillTransaction'\n'orderFillTransaction'\n'orderFillTransaction'\n'orderFillTransaction'\n'orderFillTransaction'\n'orderFillTransaction'\n'orderFillTransaction'\n'orderFillTransaction'\n'orderFillTransaction'\n'orderFillTransaction'\n'orderFillTransaction'\n'orderFillTransaction'\n'orderFillTransaction'\n'orderFillTransaction'\n'orderFillTransaction'\n'orderFillTransaction'\n'orderFillTransaction'\n'orderFillTransaction'\n'orderFillTransaction'\n'orderFillTransaction'\n'orderFillTransaction'\n'orderFillTransaction'\n'orderFillTransaction'\n'orderFillTransaction'\n'orderFillTransaction'\n'orderFillTransaction'\n'orderFillTransaction'\n'orderFillTransaction'\n'orderFillTransaction'\n'orderFillTransaction'\n'orderFillTransaction'\n'orderFillTransaction'\n'orderFillTransaction'\n'orderFillTransaction'\n'orderFillTransaction'\n'orderFillTransaction'\n'orderFillTransaction'\n'orderFillTransaction'\n'orderFillTransaction'\n'orderFillTransaction'\n'orderFillTransaction'\n'orderFillTransaction'\n'orderFillTransaction'\n'orderFillTransaction'\n'orderFillTransaction'\n'orderFillTransaction'\n'orderFillTransaction'\n'orderFillTransaction'\n'orderFillTransaction'\n'orderFillTransaction'\n'orderFillTransaction'\n'orderFillTransaction'\n'orderFillTransaction'\n'orderFillTransaction'\n'orderFillTransaction'\n'orderFillTransaction'\n'orderFillTransaction'\n'orderFillTransaction'\n'orderFillTransaction'\n'orderFillTransaction'\n'orderFillTransaction'\n'orderFillTransaction'\n'orderFillTransaction'\n'orderFillTransaction'\n'orderFillTransaction'\n'orderFillTransaction'\n'orderFillTransaction'\n'orderFillTransaction'\n'orderFillTransaction'\n'orderFillTransaction'\n'orderFillTransaction'\n'orderFillTransaction'\n'orderFillTransaction'\n'orderFillTransaction'\n'orderFillTransaction'\n'orderFillTransaction'\n'orderFillTransaction'\n'orderFillTransaction'\n'orderFillTransaction'\n'orderFillTransaction'\n'orderFillTransaction'\n'orderFillTransaction'\n'orderFillTransaction'\n'orderFillTransaction'\n'orderFillTransaction'\n'orderFillTransaction'\n'orderFillTransaction'\n'orderFillTransaction'\n'orderFillTransaction'\n'orderFillTransaction'\n'orderFillTransaction'\n'orderFillTransaction'\n'orderFillTransaction'\n'orderFillTransaction'\n'orderFillTransaction'\n'orderFillTransaction'\n'orderFillTransaction'\n'orderFillTransaction'\n'orderFillTransaction'\n'orderFillTransaction'\n'orderFillTransaction'\n'orderFillTransaction'\n'orderFillTransaction'\n'orderFillTransaction'\n'orderFillTransaction'\n'orderFillTransaction'\n'orderFillTransaction'\n'orderFillTransaction'\n'orderFillTransaction'\n'orderFillTransaction'\n'orderFillTransaction'\n'orderFillTransaction'\n'orderFillTransaction'\n'orderFillTransaction'\n'orderFillTransaction'\n'orderFillTransaction'\n'orderFillTransaction'\n'orderFillTransaction'\n'orderFillTransaction'\n'orderFillTransaction'\n'orderFillTransaction'\n'orderFillTransaction'\n'orderFillTransaction'\n'orderFillTransaction'\n'orderFillTransaction'\n'orderFillTransaction'\n'orderFillTransaction'\n'orderFillTransaction'\n'orderFillTransaction'\n'orderFillTransaction'\n'orderFillTransaction'\n'orderFillTransaction'\n'orderFillTransaction'\n'orderFillTransaction'\n'orderFillTransaction'\n'orderFillTransaction'\n'orderFillTransaction'\n'orderFillTransaction'\n'orderFillTransaction'\n'orderFillTransaction'\n'orderFillTransaction'\n'orderFillTransaction'\n'orderFillTransaction'\n'orderFillTransaction'\n'orderFillTransaction'\n'orderFillTransaction'\n'orderFillTransaction'\n'orderFillTransaction'\n'orderFillTransaction'\n'orderFillTransaction'\n'orderFillTransaction'\n'orderFillTransaction'\n'orderFillTransaction'\n'orderFillTransaction'\n'orderFillTransaction'\n'orderFillTransaction'\n'orderFillTransaction'\n'orderFillTransaction'\n'orderFillTransaction'\n'orderFillTransaction'\n'orderFillTransaction'\n'orderFillTransaction'\n'orderFillTransaction'\n'orderFillTransaction'\n'orderFillTransaction'\n'orderFillTransaction'\n'orderFillTransaction'\n'orderFillTransaction'\n'orderFillTransaction'\n'orderFillTransaction'\n'orderFillTransaction'\n'orderFillTransaction'\n'orderFillTransaction'\n'orderFillTransaction'\n'orderFillTransaction'\n'orderFillTransaction'\n'orderFillTransaction'\n'orderFillTransaction'\n'orderFillTransaction'\n'orderFillTransaction'\n'orderFillTransaction'\n'orderFillTransaction'\n'orderFillTransaction'\n'orderFillTransaction'\n'orderFillTransaction'\n'orderFillTransaction'\n'orderFillTransaction'\n'orderFillTransaction'\n'orderFillTransaction'\n'orderFillTransaction'\n'orderFillTransaction'\n'orderFillTransaction'\n'orderFillTransaction'\n'orderFillTransaction'\n'orderFillTransaction'\n'orderFillTransaction'\n'orderFillTransaction'\n'orderFillTransaction'\n'orderFillTransaction'\n'orderFillTransaction'\n'orderFillTransaction'\n'orderFillTransaction'\n'orderFillTransaction'\n'orderFillTransaction'\n'orderFillTransaction'\n'orderFillTransaction'\n'orderFillTransaction'\n'orderFillTransaction'\n'orderFillTransaction'\n'orderFillTransaction'\n'orderFillTransaction'\n'orderFillTransaction'\n'orderFillTransaction'\n'orderFillTransaction'\n'orderFillTransaction'\n'orderFillTransaction'\n'orderFillTransaction'\n'orderFillTransaction'\n'orderFillTransaction'\n'orderFillTransaction'\n'orderFillTransaction'\n'orderFillTransaction'\n'orderFillTransaction'\n'orderFillTransaction'\n'orderFillTransaction'\n'orderFillTransaction'\n'orderFillTransaction'\n'orderFillTransaction'\n'orderFillTransaction'\n'orderFillTransaction'\n'orderFillTransaction'\n'orderFillTransaction'\n'orderFillTransaction'\n'orderFillTransaction'\n'orderFillTransaction'\n'orderFillTransaction'\n'orderFillTransaction'\n'orderFillTransaction'\n'orderFillTransaction'\n'orderFillTransaction'\n'orderFillTransaction'\n'orderFillTransaction'\n'orderFillTransaction'\n'orderFillTransaction'\n'orderFillTransaction'\n'orderFillTransaction'\n'orderFillTransaction'\n'orderFillTransaction'\n'orderFillTransaction'\n'orderFillTransaction'\n'orderFillTransaction'\n'orderFillTransaction'\n'orderFillTransaction'\n'orderFillTransaction'\n'orderFillTransaction'\n'orderFillTransaction'\n'orderFillTransaction'\n'orderFillTransaction'\n'orderFillTransaction'\n'orderFillTransaction'\n'orderFillTransaction'\n'orderFillTransaction'\n'orderFillTransaction'\n'orderFillTransaction'\n'orderFillTransaction'\n'orderFillTransaction'\n'orderFillTransaction'\n'orderFillTransaction'\n'orderFillTransaction'\n'orderFillTransaction'\n'orderFillTransaction'\n'orderFillTransaction'\n'orderFillTransaction'\n'orderFillTransaction'\n'orderFillTransaction'\n'orderFillTransaction'\n'orderFillTransaction'\n'orderFillTransaction'\n'orderFillTransaction'\n'orderFillTransaction'\n'orderFillTransaction'\n'orderFillTransaction'\n'orderFillTransaction'\n'orderFillTransaction'\n'orderFillTransaction'\n'orderFillTransaction'\n'orderFillTransaction'\n'orderFillTransaction'\n'orderFillTransaction'\n'orderFillTransaction'\n'orderFillTransaction'\n'orderFillTransaction'\n'orderFillTransaction'\n'orderFillTransaction'\n'orderFillTransaction'\n'orderFillTransaction'\n'orderFillTransaction'\n'orderFillTransaction'\n'orderFillTransaction'\n'orderFillTransaction'\n'orderFillTransaction'\n'orderFillTransaction'\n'orderFillTransaction'\n'orderFillTransaction'\n'orderFillTransaction'\n'orderFillTransaction'\n'orderFillTransaction'\n'orderFillTransaction'\n'orderFillTransaction'\n'orderFillTransaction'\n'orderFillTransaction'\n'orderFillTransaction'\n'orderFillTransaction'\n'orderFillTransaction'\n'orderFillTransaction'\n'orderFillTransaction'\n'orderFillTransaction'\n'orderFillTransaction'\n'orderFillTransaction'\n'orderFillTransaction'\n'orderFillTransaction'\n'orderFillTransaction'\n'orderFillTransaction'\n'orderFillTransaction'\n'orderFillTransaction'\n'orderFillTransaction'\n'orderFillTransaction'\n'orderFillTransaction'\n'orderFillTransaction'\n'orderFillTransaction'\n'orderFillTransaction'\n'orderFillTransaction'\n'orderFillTransaction'\n'orderFillTransaction'\n'orderFillTransaction'\n'orderFillTransaction'\n'orderFillTransaction'\n'orderFillTransaction'\n'orderFillTransaction'\n'orderFillTransaction'\n'orderFillTransaction'\n'orderFillTransaction'\n'orderFillTransaction'\n'orderFillTransaction'\n'orderFillTransaction'\n'orderFillTransaction'\n'orderFillTransaction'\n'orderFillTransaction'\n'orderFillTransaction'\n'orderFillTransaction'\n'orderFillTransaction'\n'orderFillTransaction'\n'orderFillTransaction'\n'orderFillTransaction'\n'orderFillTransaction'\n'orderFillTransaction'\n'orderFillTransaction'\n'orderFillTransaction'\n'orderFillTransaction'\n'orderFillTransaction'\n'orderFillTransaction'\n'orderFillTransaction'\n'orderFillTransaction'\n'orderFillTransaction'\n'orderFillTransaction'\n'orderFillTransaction'\n'orderFillTransaction'\n'orderFillTransaction'\n'orderFillTransaction'\n'orderFillTransaction'\n'orderFillTransaction'\n'orderFillTransaction'\n'orderFillTransaction'\n'orderFillTransaction'\n'orderFillTransaction'\n'orderFillTransaction'\n'orderFillTransaction'\n'orderFillTransaction'\n'orderFillTransaction'\n'orderFillTransaction'\n'orderFillTransaction'\n'orderFillTransaction'\n'orderFillTransaction'\n'orderFillTransaction'\n'orderFillTransaction'\n'orderFillTransaction'\n'orderFillTransaction'\n'orderFillTransaction'\n'orderFillTransaction'\n'orderFillTransaction'\n'orderFillTransaction'\n'orderFillTransaction'\n'orderFillTransaction'\n'orderFillTransaction'\n'orderFillTransaction'\n'orderFillTransaction'\n'orderFillTransaction'\n'orderFillTransaction'\n'orderFillTransaction'\n'orderFillTransaction'\n'orderFillTransaction'\n'orderFillTransaction'\n'orderFillTransaction'\n'orderFillTransaction'\n'orderFillTransaction'\n'orderFillTransaction'\n'orderFillTransaction'\n'orderFillTransaction'\n'orderFillTransaction'\n'orderFillTransaction'\n'orderFillTransaction'\n'orderFillTransaction'\n'orderFillTransaction'\n'orderFillTransaction'\n'orderFillTransaction'\n'orderFillTransaction'\n'orderFillTransaction'\n'orderFillTransaction'\n'orderFillTransaction'\n'orderFillTransaction'\n'orderFillTransaction'\n'orderFillTransaction'\n'orderFillTransaction'\n'orderFillTransaction'\n'orderFillTransaction'\n'orderFillTransaction'\n'orderFillTransaction'\n'orderFillTransaction'\n'orderFillTransaction'\n'orderFillTransaction'\n'orderFillTransaction'\n'orderFillTransaction'\n'orderFillTransaction'\n'orderFillTransaction'\n'orderFillTransaction'\n'orderFillTransaction'\n'orderFillTransaction'\n'orderFillTransaction'\n'orderFillTransaction'\n'orderFillTransaction'\n'orderFillTransaction'\n'orderFillTransaction'\n'orderFillTransaction'\n'orderFillTransaction'\n'orderFillTransaction'\n'orderFillTransaction'\n'orderFillTransaction'\n'orderFillTransaction'\n'orderFillTransaction'\n'orderFillTransaction'\n'orderFillTransaction'\n'orderFillTransaction'\n'orderFillTransaction'\n'orderFillTransaction'\n'orderFillTransaction'\n'orderFillTransaction'\n'orderFillTransaction'\n'orderFillTransaction'\n'orderFillTransaction'\n'orderFillTransaction'\n'orderFillTransaction'\n'orderFillTransaction'\n'orderFillTransaction'\n'orderFillTransaction'\n'orderFillTransaction'\n'orderFillTransaction'\n'orderFillTransaction'\n'orderFillTransaction'\n'orderFillTransaction'\n'orderFillTransaction'\n'orderFillTransaction'\n'orderFillTransaction'\n'orderFillTransaction'\n'orderFillTransaction'\n'orderFillTransaction'\n'orderFillTransaction'\n'orderFillTransaction'\n'orderFillTransaction'\n'orderFillTransaction'\n'orderFillTransaction'\n'orderFillTransaction'\n'orderFillTransaction'\n'orderFillTransaction'\n'orderFillTransaction'\n'orderFillTransaction'\n'orderFillTransaction'\n'orderFillTransaction'\n'orderFillTransaction'\n'orderFillTransaction'\n'orderFillTransaction'\n'orderFillTransaction'\n'orderFillTransaction'\n'orderFillTransaction'\n'orderFillTransaction'\n'orderFillTransaction'\n'orderFillTransaction'\n'orderFillTransaction'\n'orderFillTransaction'\n'orderFillTransaction'\n'orderFillTransaction'\n'orderFillTransaction'\n'orderFillTransaction'\n'orderFillTransaction'\n'orderFillTransaction'\n'orderFillTransaction'\n'orderFillTransaction'\n'orderFillTransaction'\n'orderFillTransaction'\n'orderFillTransaction'\n'orderFillTransaction'\n'orderFillTransaction'\n"
    }
   ],
   "source": [
    "for i in range(3600):\n",
    "    pair = {}\n",
    "    \n",
    "    try:\n",
    "        pair['latency_buy'] = -Utils.get_unix_timestamp()\n",
    "        buy_response = buy(account_id)['orderFillTransaction']\n",
    "        pair['latency_buy'] += Utils.get_unix_timestamp()\n",
    "        pair['buy_price'] = buy_response['tradeOpened']['price']\n",
    "        pair['buy_hsc'] = buy_response['tradeOpened']['halfSpreadCost']\n",
    "        pair['buy_bid'] = buy_response['fullPrice']['closeoutBid']\n",
    "        pair['buy_ask'] = buy_response['fullPrice']['closeoutAsk']\n",
    "\n",
    "        pair['latency_close'] = -Utils.get_unix_timestamp()\n",
    "        close_response = long(account_id)['longOrderFillTransaction']\n",
    "        pair['latency_close'] += Utils.get_unix_timestamp()\n",
    "        pair['close_price'] = close_response['tradesClosed'][0]['price']\n",
    "        pair['close_hsc'] = close_response['tradesClosed'][0]['halfSpreadCost']\n",
    "        pair['close_bid'] = close_response['fullPrice']['closeoutBid']\n",
    "        pair['close_ask'] = close_response['fullPrice']['closeoutAsk']\n",
    "    except Exception as e:\n",
    "        print(e)\n",
    "        continue\n",
    "    \n",
    "    res.append(pair)\n",
    "    time.sleep(1)"
   ]
  },
  {
   "cell_type": "code",
   "execution_count": 10,
   "metadata": {
    "scrolled": true
   },
   "outputs": [],
   "source": [
    "df = pd.DataFrame(res)"
   ]
  },
  {
   "cell_type": "code",
   "execution_count": 11,
   "metadata": {},
   "outputs": [],
   "source": [
    "df.to_csv(\"slippage_spread_oanda.csv\", index=False)"
   ]
  },
  {
   "cell_type": "code",
   "execution_count": 12,
   "metadata": {},
   "outputs": [
    {
     "output_type": "execute_result",
     "data": {
      "text/plain": "0.4386111111111111"
     },
     "metadata": {},
     "execution_count": 12
    }
   ],
   "source": [
    "len(df)/3600"
   ]
  },
  {
   "cell_type": "markdown",
   "metadata": {},
   "source": [
    "56% of orders failed out :("
   ]
  },
  {
   "cell_type": "code",
   "execution_count": null,
   "metadata": {},
   "outputs": [],
   "source": []
  }
 ],
 "metadata": {
  "kernelspec": {
   "display_name": "Python 3.8.5 64-bit ('poandy': conda)",
   "language": "python",
   "name": "python_defaultSpec_1599520669865"
  },
  "language_info": {
   "codemirror_mode": {
    "name": "ipython",
    "version": 3
   },
   "file_extension": ".py",
   "mimetype": "text/x-python",
   "name": "python",
   "nbconvert_exporter": "python",
   "pygments_lexer": "ipython3",
   "version": "3.8.5-final"
  }
 },
 "nbformat": 4,
 "nbformat_minor": 4
}