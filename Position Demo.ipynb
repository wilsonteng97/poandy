{
 "cells": [
  {
   "cell_type": "code",
   "execution_count": 1,
   "metadata": {},
   "outputs": [],
   "source": [
    "from poandy.controller.position import PositionController\n",
    "from poandy.controller.account import AccountController\n",
    "from poandy.controller.order import OrderController"
   ]
  },
  {
   "cell_type": "code",
   "execution_count": 2,
   "metadata": {},
   "outputs": [],
   "source": [
    "account_id = AccountController.get_default_account_id()"
   ]
  },
  {
   "cell_type": "code",
   "execution_count": 3,
   "metadata": {},
   "outputs": [
    {
     "output_type": "execute_result",
     "data": {
      "text/plain": "{'positions': [{'instrument': 'EUR_USD',\n   'long': {'units': '0',\n    'pl': '0.0000',\n    'resettablePL': '0.0000',\n    'financing': '0.0000',\n    'dividendAdjustment': '0.0000',\n    'guaranteedExecutionFees': '0.0000',\n    'unrealizedPL': '0.0000'},\n   'short': {'units': '-1000000',\n    'averagePrice': '1.18170',\n    'pl': '0.0000',\n    'resettablePL': '0.0000',\n    'financing': '0.0000',\n    'dividendAdjustment': '0.0000',\n    'guaranteedExecutionFees': '0.0000',\n    'tradeIDs': ['5'],\n    'unrealizedPL': '-109.8570'},\n   'pl': '0.0000',\n   'resettablePL': '0.0000',\n   'financing': '0.0000',\n   'commission': '0.0000',\n   'dividendAdjustment': '0.0000',\n   'guaranteedExecutionFees': '0.0000',\n   'unrealizedPL': '-109.8570',\n   'marginUsed': '80734.0000'}],\n 'lastTransactionID': '7'}"
     },
     "metadata": {},
     "execution_count": 3
    }
   ],
   "source": [
    "PositionController.get_positions(account_id)"
   ]
  },
  {
   "cell_type": "code",
   "execution_count": 4,
   "metadata": {},
   "outputs": [
    {
     "output_type": "execute_result",
     "data": {
      "text/plain": "{'positions': [{'instrument': 'EUR_USD',\n   'long': {'units': '0',\n    'pl': '0.0000',\n    'resettablePL': '0.0000',\n    'financing': '0.0000',\n    'dividendAdjustment': '0.0000',\n    'guaranteedExecutionFees': '0.0000',\n    'unrealizedPL': '0.0000'},\n   'short': {'units': '-1000000',\n    'averagePrice': '1.18170',\n    'pl': '0.0000',\n    'resettablePL': '0.0000',\n    'financing': '0.0000',\n    'dividendAdjustment': '0.0000',\n    'guaranteedExecutionFees': '0.0000',\n    'tradeIDs': ['5'],\n    'unrealizedPL': '-82.3933'},\n   'pl': '0.0000',\n   'resettablePL': '0.0000',\n   'financing': '0.0000',\n   'commission': '0.0000',\n   'dividendAdjustment': '0.0000',\n   'guaranteedExecutionFees': '0.0000',\n   'unrealizedPL': '-82.3933',\n   'marginUsed': '80733.0000'}],\n 'lastTransactionID': '7'}"
     },
     "metadata": {},
     "execution_count": 4
    }
   ],
   "source": [
    "PositionController.get_open_positions(account_id)"
   ]
  },
  {
   "cell_type": "code",
   "execution_count": 5,
   "metadata": {},
   "outputs": [
    {
     "output_type": "execute_result",
     "data": {
      "text/plain": "{'orderCreateTransaction': {'type': 'MARKET_ORDER',\n  'instrument': 'EUR_USD',\n  'units': '-1000',\n  'timeInForce': 'FOK',\n  'positionFill': 'DEFAULT',\n  'reason': 'CLIENT_ORDER',\n  'id': '8',\n  'accountID': '101-003-16386799-001',\n  'userID': 16386799,\n  'batchID': '8',\n  'requestID': '78766469391332861',\n  'time': '1599520529.348286584'},\n 'orderFillTransaction': {'type': 'ORDER_FILL',\n  'orderID': '8',\n  'instrument': 'EUR_USD',\n  'units': '-1000',\n  'requestedUnits': '-1000',\n  'price': '1.18165',\n  'pl': '0.0000',\n  'financing': '0.0000',\n  'commission': '0.0000',\n  'accountBalance': '100000.0000',\n  'gainQuoteHomeConversionFactor': '1.35956800',\n  'lossQuoteHomeConversionFactor': '1.37323200',\n  'guaranteedExecutionFee': '0.0000',\n  'halfSpreadCost': '0.0683',\n  'fullVWAP': '1.18165',\n  'reason': 'MARKET_ORDER',\n  'tradeOpened': {'price': '1.18165',\n   'tradeID': '9',\n   'units': '-1000',\n   'guaranteedExecutionFee': '0.0000',\n   'halfSpreadCost': '0.0683',\n   'initialMarginRequired': '80.7335'},\n  'fullPrice': {'closeoutBid': '1.18161',\n   'closeoutAsk': '1.18179',\n   'timestamp': '1599520518.584260108',\n   'bids': [{'price': '1.18165', 'liquidity': '1000000'},\n    {'price': '1.18164', 'liquidity': '2000000'},\n    {'price': '1.18163', 'liquidity': '2000000'},\n    {'price': '1.18161', 'liquidity': '5000000'}],\n   'asks': [{'price': '1.18175', 'liquidity': '1000000'},\n    {'price': '1.18177', 'liquidity': '2000000'},\n    {'price': '1.18178', 'liquidity': '2000000'},\n    {'price': '1.18179', 'liquidity': '5000000'}]},\n  'id': '9',\n  'accountID': '101-003-16386799-001',\n  'userID': 16386799,\n  'batchID': '8',\n  'requestID': '78766469391332861',\n  'time': '1599520529.348286584'},\n 'relatedTransactionIDs': ['8', '9'],\n 'lastTransactionID': '9'}"
     },
     "metadata": {},
     "execution_count": 5
    }
   ],
   "source": [
    "OrderController.create_order(\n",
    "    account_id,\n",
    "    \"MARKET\",\n",
    "    \"-1000\",\n",
    "    \"EUR_USD\",\n",
    "    \"FOK\",\n",
    "    \"DEFAULT\"\n",
    ")"
   ]
  },
  {
   "cell_type": "code",
   "execution_count": 6,
   "metadata": {},
   "outputs": [
    {
     "output_type": "execute_result",
     "data": {
      "text/plain": "{'shortOrderCreateTransaction': {'type': 'MARKET_ORDER',\n  'instrument': 'EUR_USD',\n  'units': '1001000',\n  'timeInForce': 'FOK',\n  'positionFill': 'REDUCE_ONLY',\n  'reason': 'POSITION_CLOSEOUT',\n  'shortPositionCloseout': {'instrument': 'EUR_USD', 'units': 'ALL'},\n  'id': '10',\n  'accountID': '101-003-16386799-001',\n  'userID': 16386799,\n  'batchID': '10',\n  'requestID': '42737672461619036',\n  'time': '1599520550.229618816'},\n 'shortOrderFillTransaction': {'type': 'ORDER_FILL',\n  'orderID': '10',\n  'instrument': 'EUR_USD',\n  'units': '1001000',\n  'requestedUnits': '1001000',\n  'price': '1.18178',\n  'pl': '-110.0371',\n  'financing': '0.0000',\n  'commission': '0.0000',\n  'accountBalance': '99889.9629',\n  'gainQuoteHomeConversionFactor': '1.35956800',\n  'lossQuoteHomeConversionFactor': '1.37323200',\n  'guaranteedExecutionFee': '0.0000',\n  'halfSpreadCost': '68.3883',\n  'fullVWAP': '1.18178',\n  'reason': 'MARKET_ORDER_POSITION_CLOSEOUT',\n  'tradesClosed': [{'tradeID': '5',\n    'units': '1000000',\n    'realizedPL': '-109.8586',\n    'financing': '0.0000',\n    'price': '1.18178',\n    'guaranteedExecutionFee': '0.0000',\n    'halfSpreadCost': '68.3200'},\n   {'tradeID': '9',\n    'units': '1000',\n    'realizedPL': '-0.1785',\n    'financing': '0.0000',\n    'price': '1.18178',\n    'guaranteedExecutionFee': '0.0000',\n    'halfSpreadCost': '0.0683'}],\n  'fullPrice': {'closeoutBid': '1.18164',\n   'closeoutAsk': '1.18182',\n   'timestamp': '1599520538.041019962',\n   'bids': [{'price': '1.18168', 'liquidity': '1000000'},\n    {'price': '1.18167', 'liquidity': '2000000'},\n    {'price': '1.18166', 'liquidity': '2000000'},\n    {'price': '1.18164', 'liquidity': '5000000'}],\n   'asks': [{'price': '1.18178', 'liquidity': '1000000'},\n    {'price': '1.18180', 'liquidity': '2000000'},\n    {'price': '1.18181', 'liquidity': '2000000'},\n    {'price': '1.18182', 'liquidity': '5000000'}]},\n  'id': '11',\n  'accountID': '101-003-16386799-001',\n  'userID': 16386799,\n  'batchID': '10',\n  'requestID': '42737672461619036',\n  'time': '1599520550.229618816'},\n 'relatedTransactionIDs': ['10', '11'],\n 'lastTransactionID': '11'}"
     },
     "metadata": {},
     "execution_count": 6
    }
   ],
   "source": [
    "PositionController.close_instrument_positions(account_id, \"EUR_USD\", short_units=\"ALL\")"
   ]
  },
  {
   "cell_type": "code",
   "execution_count": null,
   "metadata": {},
   "outputs": [],
   "source": []
  }
 ],
 "metadata": {
  "kernelspec": {
   "display_name": "Python 3.8.5 64-bit ('poandy': conda)",
   "language": "python",
   "name": "python_defaultSpec_1599519930543"
  },
  "language_info": {
   "codemirror_mode": {
    "name": "ipython",
    "version": 3
   },
   "file_extension": ".py",
   "mimetype": "text/x-python",
   "name": "python",
   "nbconvert_exporter": "python",
   "pygments_lexer": "ipython3",
   "version": "3.8.5-final"
  }
 },
 "nbformat": 4,
 "nbformat_minor": 4
}