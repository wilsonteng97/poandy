{
 "cells": [
  {
   "cell_type": "code",
   "execution_count": 1,
   "metadata": {},
   "outputs": [],
   "source": [
    "from poandy.controller.position import PositionController\n",
    "from poandy.controller.account import AccountController\n",
    "from poandy.controller.order import OrderController"
   ]
  },
  {
   "cell_type": "code",
   "execution_count": 2,
   "metadata": {},
   "outputs": [],
   "source": [
    "account_id = AccountController.get_default_account_id()"
   ]
  },
  {
   "cell_type": "code",
   "execution_count": 3,
   "metadata": {},
   "outputs": [
    {
     "data": {
      "text/plain": [
       "{'positions': [{'instrument': 'EUR_USD',\n",
       "   'long': {'units': '0',\n",
       "    'pl': '-40523.4412',\n",
       "    'resettablePL': '-40523.4412',\n",
       "    'financing': '0.0000',\n",
       "    'dividendAdjustment': '0.0000',\n",
       "    'guaranteedExecutionFees': '0.0000',\n",
       "    'unrealizedPL': '0.0000'},\n",
       "   'short': {'units': '0',\n",
       "    'pl': '-782.1977',\n",
       "    'resettablePL': '-782.1977',\n",
       "    'financing': '0.0000',\n",
       "    'dividendAdjustment': '0.0000',\n",
       "    'guaranteedExecutionFees': '0.0000',\n",
       "    'unrealizedPL': '0.0000'},\n",
       "   'pl': '-41305.6389',\n",
       "   'resettablePL': '-41305.6389',\n",
       "   'financing': '0.0000',\n",
       "   'commission': '0.0000',\n",
       "   'dividendAdjustment': '0.0000',\n",
       "   'guaranteedExecutionFees': '0.0000',\n",
       "   'unrealizedPL': '0.0000',\n",
       "   'marginUsed': '0.0000'}],\n",
       " 'lastTransactionID': '11558'}"
      ]
     },
     "execution_count": 3,
     "metadata": {},
     "output_type": "execute_result"
    }
   ],
   "source": [
    "PositionController.get_positions(account_id)"
   ]
  },
  {
   "cell_type": "code",
   "execution_count": 4,
   "metadata": {},
   "outputs": [
    {
     "data": {
      "text/plain": [
       "{'positions': [], 'lastTransactionID': '11558'}"
      ]
     },
     "execution_count": 4,
     "metadata": {},
     "output_type": "execute_result"
    }
   ],
   "source": [
    "PositionController.get_open_positions(account_id)"
   ]
  },
  {
   "cell_type": "code",
   "execution_count": 5,
   "metadata": {},
   "outputs": [
    {
     "data": {
      "text/plain": [
       "{'orderCreateTransaction': {'type': 'MARKET_ORDER',\n",
       "  'instrument': 'EUR_USD',\n",
       "  'units': '-1000',\n",
       "  'timeInForce': 'FOK',\n",
       "  'positionFill': 'DEFAULT',\n",
       "  'reason': 'CLIENT_ORDER',\n",
       "  'id': '11559',\n",
       "  'accountID': '101-003-15455169-001',\n",
       "  'userID': 15455169,\n",
       "  'batchID': '11559',\n",
       "  'requestID': '42737508223438775',\n",
       "  'time': '1599481392.549991481'},\n",
       " 'orderFillTransaction': {'type': 'ORDER_FILL',\n",
       "  'orderID': '11559',\n",
       "  'instrument': 'EUR_USD',\n",
       "  'units': '-1000',\n",
       "  'requestedUnits': '-1000',\n",
       "  'price': '1.18232',\n",
       "  'pl': '0.0000',\n",
       "  'financing': '0.0000',\n",
       "  'commission': '0.0000',\n",
       "  'accountBalance': '58694.3611',\n",
       "  'gainQuoteHomeConversionFactor': '1.35998590',\n",
       "  'lossQuoteHomeConversionFactor': '1.37365410',\n",
       "  'guaranteedExecutionFee': '0.0000',\n",
       "  'halfSpreadCost': '0.0478',\n",
       "  'fullVWAP': '1.18232',\n",
       "  'reason': 'MARKET_ORDER',\n",
       "  'tradeOpened': {'price': '1.18232',\n",
       "   'tradeID': '11560',\n",
       "   'units': '-1000',\n",
       "   'guaranteedExecutionFee': '0.0000',\n",
       "   'halfSpreadCost': '0.0478',\n",
       "   'initialMarginRequired': '80.8040'},\n",
       "  'fullPrice': {'closeoutBid': '1.18228',\n",
       "   'closeoutAsk': '1.18243',\n",
       "   'timestamp': '1599481384.378942533',\n",
       "   'bids': [{'price': '1.18232', 'liquidity': '1000000'},\n",
       "    {'price': '1.18231', 'liquidity': '2000000'},\n",
       "    {'price': '1.18230', 'liquidity': '2000000'},\n",
       "    {'price': '1.18228', 'liquidity': '5000000'}],\n",
       "   'asks': [{'price': '1.18239', 'liquidity': '1000000'},\n",
       "    {'price': '1.18241', 'liquidity': '2000000'},\n",
       "    {'price': '1.18242', 'liquidity': '2000000'},\n",
       "    {'price': '1.18243', 'liquidity': '5000000'}]},\n",
       "  'id': '11560',\n",
       "  'accountID': '101-003-15455169-001',\n",
       "  'userID': 15455169,\n",
       "  'batchID': '11559',\n",
       "  'requestID': '42737508223438775',\n",
       "  'time': '1599481392.549991481'},\n",
       " 'relatedTransactionIDs': ['11559', '11560'],\n",
       " 'lastTransactionID': '11560'}"
      ]
     },
     "execution_count": 5,
     "metadata": {},
     "output_type": "execute_result"
    }
   ],
   "source": [
    "OrderController.create_order(\n",
    "    account_id,\n",
    "    \"MARKET\",\n",
    "    \"-1000\",\n",
    "    \"EUR_USD\",\n",
    "    \"FOK\",\n",
    "    \"DEFAULT\"\n",
    ")"
   ]
  },
  {
   "cell_type": "code",
   "execution_count": 6,
   "metadata": {},
   "outputs": [
    {
     "data": {
      "text/plain": [
       "{'shortOrderCreateTransaction': {'type': 'MARKET_ORDER',\n",
       "  'instrument': 'EUR_USD',\n",
       "  'units': '1000',\n",
       "  'timeInForce': 'FOK',\n",
       "  'positionFill': 'REDUCE_ONLY',\n",
       "  'reason': 'POSITION_CLOSEOUT',\n",
       "  'shortPositionCloseout': {'instrument': 'EUR_USD', 'units': 'ALL'},\n",
       "  'id': '11561',\n",
       "  'accountID': '101-003-15455169-001',\n",
       "  'userID': 15455169,\n",
       "  'batchID': '11561',\n",
       "  'requestID': '24723109710175344',\n",
       "  'time': '1599481392.881266324'},\n",
       " 'shortOrderFillTransaction': {'type': 'ORDER_FILL',\n",
       "  'orderID': '11561',\n",
       "  'instrument': 'EUR_USD',\n",
       "  'units': '1000',\n",
       "  'requestedUnits': '1000',\n",
       "  'price': '1.18239',\n",
       "  'pl': '-0.0962',\n",
       "  'financing': '0.0000',\n",
       "  'commission': '0.0000',\n",
       "  'accountBalance': '58694.2649',\n",
       "  'gainQuoteHomeConversionFactor': '1.35998590',\n",
       "  'lossQuoteHomeConversionFactor': '1.37365410',\n",
       "  'guaranteedExecutionFee': '0.0000',\n",
       "  'halfSpreadCost': '0.0478',\n",
       "  'fullVWAP': '1.18239',\n",
       "  'reason': 'MARKET_ORDER_POSITION_CLOSEOUT',\n",
       "  'tradesClosed': [{'tradeID': '11560',\n",
       "    'units': '1000',\n",
       "    'realizedPL': '-0.0962',\n",
       "    'financing': '0.0000',\n",
       "    'price': '1.18239',\n",
       "    'guaranteedExecutionFee': '0.0000',\n",
       "    'halfSpreadCost': '0.0478'}],\n",
       "  'fullPrice': {'closeoutBid': '1.18228',\n",
       "   'closeoutAsk': '1.18243',\n",
       "   'timestamp': '1599481384.378942533',\n",
       "   'bids': [{'price': '1.18232', 'liquidity': '999000'},\n",
       "    {'price': '1.18231', 'liquidity': '2000000'},\n",
       "    {'price': '1.18230', 'liquidity': '2000000'},\n",
       "    {'price': '1.18228', 'liquidity': '5000000'}],\n",
       "   'asks': [{'price': '1.18239', 'liquidity': '1000000'},\n",
       "    {'price': '1.18241', 'liquidity': '2000000'},\n",
       "    {'price': '1.18242', 'liquidity': '2000000'},\n",
       "    {'price': '1.18243', 'liquidity': '5000000'}]},\n",
       "  'id': '11562',\n",
       "  'accountID': '101-003-15455169-001',\n",
       "  'userID': 15455169,\n",
       "  'batchID': '11561',\n",
       "  'requestID': '24723109710175344',\n",
       "  'time': '1599481392.881266324'},\n",
       " 'relatedTransactionIDs': ['11561', '11562'],\n",
       " 'lastTransactionID': '11562'}"
      ]
     },
     "execution_count": 6,
     "metadata": {},
     "output_type": "execute_result"
    }
   ],
   "source": [
    "PositionController.close_instrument_positions(account_id, \"EUR_USD\", short_units=\"ALL\")"
   ]
  },
  {
   "cell_type": "code",
   "execution_count": null,
   "metadata": {},
   "outputs": [],
   "source": []
  }
 ],
 "metadata": {
  "kernelspec": {
   "display_name": "Python 3.8.5 64-bit ('poandy': conda)",
   "language": "python",
   "name": "python_defaultSpec_1599519930543"
  },
  "language_info": {
   "codemirror_mode": {
    "name": "ipython",
    "version": 3
   },
   "file_extension": ".py",
   "mimetype": "text/x-python",
   "name": "python",
   "nbconvert_exporter": "python",
   "pygments_lexer": "ipython3",
   "version": "3.8.5-final"
  }
 },
 "nbformat": 4,
 "nbformat_minor": 4
}