{
 "cells": [
  {
   "cell_type": "code",
   "execution_count": 1,
   "metadata": {},
   "outputs": [],
   "source": [
    "from poandy.controller.order import OrderController\n",
    "from poandy.controller.account import AccountController"
   ]
  },
  {
   "cell_type": "code",
   "execution_count": 2,
   "metadata": {},
   "outputs": [],
   "source": [
    "account_id = AccountController.get_default_account_id()"
   ]
  },
  {
   "cell_type": "code",
   "execution_count": 3,
   "metadata": {},
   "outputs": [
    {
     "output_type": "execute_result",
     "data": {
      "text/plain": "{'orderCreateTransaction': {'type': 'MARKET_ORDER',\n  'instrument': 'EUR_USD',\n  'units': '-1000000',\n  'timeInForce': 'FOK',\n  'positionFill': 'DEFAULT',\n  'reason': 'CLIENT_ORDER',\n  'id': '6',\n  'accountID': '101-003-16386799-001',\n  'userID': 16386799,\n  'batchID': '6',\n  'requestID': '60752070694151541',\n  'time': '1599520484.832845654'},\n 'orderCancelTransaction': {'type': 'ORDER_CANCEL',\n  'orderID': '6',\n  'reason': 'INSUFFICIENT_MARGIN',\n  'id': '7',\n  'accountID': '101-003-16386799-001',\n  'userID': 16386799,\n  'batchID': '6',\n  'requestID': '60752070694151541',\n  'time': '1599520484.832845654'},\n 'relatedTransactionIDs': ['6', '7'],\n 'lastTransactionID': '7'}"
     },
     "metadata": {},
     "execution_count": 3
    }
   ],
   "source": [
    "OrderController.create_order(\n",
    "    account_id,\n",
    "    \"MARKET\",\n",
    "    \"-1000000\",\n",
    "    \"EUR_USD\",\n",
    "    \"FOK\",\n",
    "    \"DEFAULT\"\n",
    ")"
   ]
  },
  {
   "cell_type": "code",
   "execution_count": 4,
   "metadata": {},
   "outputs": [
    {
     "output_type": "execute_result",
     "data": {
      "text/plain": "{'orders': [], 'lastTransactionID': '7'}"
     },
     "metadata": {},
     "execution_count": 4
    }
   ],
   "source": [
    "OrderController.get_orders(account_id)"
   ]
  },
  {
   "cell_type": "code",
   "execution_count": 5,
   "metadata": {},
   "outputs": [
    {
     "output_type": "execute_result",
     "data": {
      "text/plain": "{'orders': [], 'lastTransactionID': '7'}"
     },
     "metadata": {},
     "execution_count": 5
    }
   ],
   "source": [
    "OrderController.get_pending_orders(account_id)"
   ]
  },
  {
   "cell_type": "code",
   "execution_count": null,
   "metadata": {},
   "outputs": [],
   "source": []
  }
 ],
 "metadata": {
  "kernelspec": {
   "display_name": "Python 3.8.5 64-bit ('poandy': conda)",
   "language": "python",
   "name": "python_defaultSpec_1599520466963"
  },
  "language_info": {
   "codemirror_mode": {
    "name": "ipython",
    "version": 3
   },
   "file_extension": ".py",
   "mimetype": "text/x-python",
   "name": "python",
   "nbconvert_exporter": "python",
   "pygments_lexer": "ipython3",
   "version": "3.8.5-final"
  }
 },
 "nbformat": 4,
 "nbformat_minor": 4
}