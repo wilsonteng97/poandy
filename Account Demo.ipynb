{
 "cells": [
  {
   "cell_type": "code",
   "execution_count": 1,
   "metadata": {},
   "outputs": [],
   "source": [
    "from poandy.controller.account import AccountController"
   ]
  },
  {
   "cell_type": "code",
   "execution_count": 2,
   "metadata": {},
   "outputs": [
    {
     "output_type": "execute_result",
     "data": {
      "text/plain": "{'accounts': [{'id': '101-003-16386799-001', 'tags': []}]}"
     },
     "metadata": {},
     "execution_count": 2
    }
   ],
   "source": [
    "AccountController.get_accounts()"
   ]
  },
  {
   "cell_type": "code",
   "execution_count": 3,
   "metadata": {},
   "outputs": [],
   "source": [
    "account_id = AccountController.get_default_account_id()"
   ]
  },
  {
   "cell_type": "code",
   "execution_count": 4,
   "metadata": {},
   "outputs": [
    {
     "output_type": "execute_result",
     "data": {
      "text/plain": "'101-003-16386799-001'"
     },
     "metadata": {},
     "execution_count": 4
    }
   ],
   "source": [
    "account_id"
   ]
  },
  {
   "cell_type": "code",
   "execution_count": 5,
   "metadata": {},
   "outputs": [
    {
     "output_type": "execute_result",
     "data": {
      "text/plain": "{'account': {'guaranteedStopLossOrderMode': 'ALLOWED',\n  'hedgingEnabled': False,\n  'id': '101-003-16386799-001',\n  'createdTime': '1599517421.789211637',\n  'currency': 'SGD',\n  'createdByUserID': 16386799,\n  'alias': 'Primary',\n  'marginRate': '0.05',\n  'lastTransactionID': '3',\n  'balance': '100000.0000',\n  'openTradeCount': 0,\n  'openPositionCount': 0,\n  'pendingOrderCount': 0,\n  'pl': '0.0000',\n  'resettablePL': '0.0000',\n  'resettablePLTime': '0',\n  'financing': '0.0000',\n  'commission': '0.0000',\n  'dividendAdjustment': '0',\n  'guaranteedExecutionFees': '0.0000',\n  'orders': [],\n  'positions': [],\n  'trades': [],\n  'unrealizedPL': '0.0000',\n  'NAV': '100000.0000',\n  'marginUsed': '0.0000',\n  'marginAvailable': '100000.0000',\n  'positionValue': '0.0000',\n  'marginCloseoutUnrealizedPL': '0.0000',\n  'marginCloseoutNAV': '100000.0000',\n  'marginCloseoutMarginUsed': '0.0000',\n  'marginCloseoutPositionValue': '0.0000',\n  'marginCloseoutPercent': '0.00000',\n  'withdrawalLimit': '100000.0000',\n  'marginCallMarginUsed': '0.0000',\n  'marginCallPercent': '0.00000'},\n 'lastTransactionID': '3'}"
     },
     "metadata": {},
     "execution_count": 5
    }
   ],
   "source": [
    "AccountController.get_account_details(account_id)"
   ]
  },
  {
   "cell_type": "code",
   "execution_count": 6,
   "metadata": {},
   "outputs": [
    {
     "output_type": "execute_result",
     "data": {
      "text/plain": "{'account': {'guaranteedStopLossOrderMode': 'ALLOWED',\n  'hedgingEnabled': False,\n  'id': '101-003-16386799-001',\n  'createdTime': '1599517421.789211637',\n  'currency': 'SGD',\n  'createdByUserID': 16386799,\n  'alias': 'Primary',\n  'marginRate': '0.05',\n  'lastTransactionID': '3',\n  'balance': '100000.0000',\n  'openTradeCount': 0,\n  'openPositionCount': 0,\n  'pendingOrderCount': 0,\n  'pl': '0.0000',\n  'resettablePL': '0.0000',\n  'resettablePLTime': '0',\n  'financing': '0.0000',\n  'commission': '0.0000',\n  'dividendAdjustment': '0',\n  'guaranteedExecutionFees': '0.0000',\n  'unrealizedPL': '0.0000',\n  'NAV': '100000.0000',\n  'marginUsed': '0.0000',\n  'marginAvailable': '100000.0000',\n  'positionValue': '0.0000',\n  'marginCloseoutUnrealizedPL': '0.0000',\n  'marginCloseoutNAV': '100000.0000',\n  'marginCloseoutMarginUsed': '0.0000',\n  'marginCloseoutPositionValue': '0.0000',\n  'marginCloseoutPercent': '0.00000',\n  'withdrawalLimit': '100000.0000',\n  'marginCallMarginUsed': '0.0000',\n  'marginCallPercent': '0.00000'},\n 'lastTransactionID': '3'}"
     },
     "metadata": {},
     "execution_count": 6
    }
   ],
   "source": [
    "AccountController.get_account_summary(account_id)"
   ]
  },
  {
   "cell_type": "code",
   "execution_count": 7,
   "metadata": {},
   "outputs": [
    {
     "output_type": "execute_result",
     "data": {
      "text/plain": "marginRate': '0.2',\n   'guaranteedStopLossOrderMode': 'DISABLED',\n   'tags': [{'type': 'ASSET_CLASS', 'name': 'COMMODITY'}],\n   'financing': {'longRate': '-0.0145',\n    'shortRate': '-0.0055',\n    'financingDaysOfWeek': [{'dayOfWeek': 'MONDAY', 'daysCharged': 1},\n     {'dayOfWeek': 'TUESDAY', 'daysCharged': 1},\n     {'dayOfWeek': 'WEDNESDAY', 'daysCharged': 1},\n     {'dayOfWeek': 'THURSDAY', 'daysCharged': 1},\n     {'dayOfWeek': 'FRIDAY', 'daysCharged': 1},\n     {'dayOfWeek': 'SATURDAY', 'daysCharged': 0},\n     {'dayOfWeek': 'SUNDAY', 'daysCharged': 0}]}},\n  {'name': 'CAD_JPY',\n   'type': 'CURRENCY',\n   'displayName': 'CAD/JPY',\n   'pipLocation': -2,\n   'displayPrecision': 3,\n   'tradeUnitsPrecision': 0,\n   'minimumTradeSize': '1',\n   'maximumTrailingStopDistance': '100.000',\n   'minimumTrailingStopDistance': '0.050',\n   'maximumPositionSize': '0',\n   'maximumOrderUnits': '100000000',\n   'marginRate': '0.05',\n   'guaranteedStopLossOrderMode': 'ALLOWED',\n   'minimumGuaranteedStopLossDistance': '0.30',\n   'guaranteedStopLossOrderExecutionPremium': '0.020',\n   'guaranteedStopLossOrderLevelRestriction': {'volume': '1000000',\n    'priceRange': '0.250'},\n   'tags': [{'type': 'ASSET_CLASS', 'name': 'CURRENCY'}],\n   'financing': {'longRate': '-0.0048',\n    'shortRate': '-0.0120',\n    'financingDaysOfWeek': [{'dayOfWeek': 'MONDAY', 'daysCharged': 1},\n     {'dayOfWeek': 'TUESDAY', 'daysCharged': 1},\n     {'dayOfWeek': 'WEDNESDAY', 'daysCharged': 3},\n     {'dayOfWeek': 'THURSDAY', 'daysCharged': 1},\n     {'dayOfWeek': 'FRIDAY', 'daysCharged': 1},\n     {'dayOfWeek': 'SATURDAY', 'daysCharged': 0},\n     {'dayOfWeek': 'SUNDAY', 'daysCharged': 0}]}},\n  {'name': 'USD_SGD',\n   'type': 'CURRENCY',\n   'displayName': 'USD/SGD',\n   'pipLocation': -4,\n   'displayPrecision': 5,\n   'tradeUnitsPrecision': 0,\n   'minimumTradeSize': '1',\n   'maximumTrailingStopDistance': '1.00000',\n   'minimumTrailingStopDistance': '0.00050',\n   'maximumPositionSize': '0',\n   'maximumOrderUnits': '100000000',\n   'marginRate': '0.05',\n   'guaranteedStopLossOrderMode': 'ALLOWED',\n   'minimumGuaranteedStopLossDistance': '0.0075',\n   'guaranteedStopLossOrderExecutionPremium': '0.00020',\n   'guaranteedStopLossOrderLevelRestriction': {'volume': '1000000',\n    'priceRange': '0.01000'},\n   'tags': [{'type': 'ASSET_CLASS', 'name': 'CURRENCY'}],\n   'financing': {'longRate': '-0.0112',\n    'shortRate': '-0.0131',\n    'financingDaysOfWeek': [{'dayOfWeek': 'MONDAY', 'daysCharged': 1},\n     {'dayOfWeek': 'TUESDAY', 'daysCharged': 1},\n     {'dayOfWeek': 'WEDNESDAY', 'daysCharged': 3},\n     {'dayOfWeek': 'THURSDAY', 'daysCharged': 1},\n     {'dayOfWeek': 'FRIDAY', 'daysCharged': 1},\n     {'dayOfWeek': 'SATURDAY', 'daysCharged': 0},\n     {'dayOfWeek': 'SUNDAY', 'daysCharged': 0}]}},\n  {'name': 'EUR_SEK',\n   'type': 'CURRENCY',\n   'displayName': 'EUR/SEK',\n   'pipLocation': -4,\n   'displayPrecision': 5,\n   'tradeUnitsPrecision': 0,\n   'minimumTradeSize': '1',\n   'maximumTrailingStopDistance': '1.00000',\n   'minimumTrailingStopDistance': '0.00050',\n   'maximumPositionSize': '0',\n   'maximumOrderUnits': '100000000',\n   'marginRate': '0.05',\n   'guaranteedStopLossOrderMode': 'ALLOWED',\n   'minimumGuaranteedStopLossDistance': '0.0600',\n   'guaranteedStopLossOrderExecutionPremium': '0.00500',\n   'guaranteedStopLossOrderLevelRestriction': {'volume': '1000000',\n    'priceRange': '0.05000'},\n   'tags': [{'type': 'ASSET_CLASS', 'name': 'CURRENCY'}],\n   'financing': {'longRate': '-0.0116',\n    'shortRate': '-0.0045',\n    'financingDaysOfWeek': [{'dayOfWeek': 'MONDAY', 'daysCharged': 1},\n     {'dayOfWeek': 'TUESDAY', 'daysCharged': 1},\n     {'dayOfWeek': 'WEDNESDAY', 'daysCharged': 3},\n     {'dayOfWeek': 'THURSDAY', 'daysCharged': 1},\n     {'dayOfWeek': 'FRIDAY', 'daysCharged': 1},\n     {'dayOfWeek': 'SATURDAY', 'daysCharged': 0},\n     {'dayOfWeek': 'SUNDAY', 'daysCharged': 0}]}},\n  {'name': 'SUGAR_USD',\n   'type': 'CFD',\n   'displayName': 'Sugar',\n   'pipLocation': -4,\n   'displayPrecision': 5,\n   'tradeUnitsPrecision': 0,\n   'minimumTradeSize': '1',\n   'maximumTrailingStopDistance': '1.00000',\n   'minimumTrailingStopDistance': '0.00050',\n   'maximumPositionSize': '0',\n   'maximumOrderUnits': '20000000',\n   'marginRate': '0.2',\n   'guaranteedStopLossOrderMode': 'DISABLED',\n   'tags': [{'type': 'ASSET_CLASS', 'name': 'COMMODITY'}],\n   'financing': {'longRate': '-0.07',\n    'shortRate': '0.02',\n    'financingDaysOfWeek': [{'dayOfWeek': 'MONDAY', 'daysCharged': 1},\n     {'dayOfWeek': 'TUESDAY', 'daysCharged': 1},\n     {'dayOfWeek': 'WEDNESDAY', 'daysCharged': 1},\n     {'dayOfWeek': 'THURSDAY', 'daysCharged': 1},\n     {'dayOfWeek': 'FRIDAY', 'daysCharged': 1},\n     {'dayOfWeek': 'SATURDAY', 'daysCharged': 1},\n     {'dayOfWeek': 'SUNDAY', 'daysCharged': 1}]}},\n  {'name': 'SPX500_USD',\n   'type': 'CFD',\n   'displayName': 'US SPX 500',\n   'pipLocation': 0,\n   'displayPrecision': 1,\n   'tradeUnitsPrecision': 0,\n   'minimumTradeSize': '1',\n   'maximumTrailingStopDistance': '10000.0',\n   'minimumTrailingStopDistance': '5.0',\n   'maximumPositionSize': '0',\n   'maximumOrderUnits': '10000',\n   'marginRate': '0.05',\n   'guaranteedStopLossOrderMode': 'ALLOWED',\n   'minimumGuaranteedStopLossDistance': '33',\n   'guaranteedStopLossOrderExecutionPremium': '0.3',\n   'guaranteedStopLossOrderLevelRestriction': {'volume': '500',\n    'priceRange': '4.0'},\n   'tags': [{'type': 'ASSET_CLASS', 'name': 'INDEX'}],\n   'financing': {'longRate': '-0.0274',\n    'shortRate': '-0.0226',\n    'financingDaysOfWeek': [{'dayOfWeek': 'MONDAY', 'daysCharged': 1},\n     {'dayOfWeek': 'TUESDAY', 'daysCharged': 1},\n     {'dayOfWeek': 'WEDNESDAY', 'daysCharged': 1},\n     {'dayOfWeek': 'THURSDAY', 'daysCharged': 1},\n     {'dayOfWeek': 'FRIDAY', 'daysCharged': 3},\n     {'dayOfWeek': 'SATURDAY', 'daysCharged': 0},\n     {'dayOfWeek': 'SUNDAY', 'daysCharged': 0}]}},\n  {'name': 'USD_HKD',\n   'type': 'CURRENCY',\n   'displayName': 'USD/HKD',\n   'pipLocation': -4,\n   'displayPrecision': 5,\n   'tradeUnitsPrecision': 0,\n   'minimumTradeSize': '1',\n   'maximumTrailingStopDistance': '1.00000',\n   'minimumTrailingStopDistance': '0.00050',\n   'maximumPositionSize': '0',\n   'maximumOrderUnits': '100000000',\n   'marginRate': '0.1',\n   'guaranteedStopLossOrderMode': 'DISABLED',\n   'tags': [{'type': 'ASSET_CLASS', 'name': 'CURRENCY'}],\n   'financing': {'longRate': '-0.0122',\n    'shortRate': '-0.0122',\n    'financingDaysOfWeek': [{'dayOfWeek': 'MONDAY', 'daysCharged': 1},\n     {'dayOfWeek': 'TUESDAY', 'daysCharged': 1},\n     {'dayOfWeek': 'WEDNESDAY', 'daysCharged': 3},\n     {'dayOfWeek': 'THURSDAY', 'daysCharged': 1},\n     {'dayOfWeek': 'FRIDAY', 'daysCharged': 1},\n     {'dayOfWeek': 'SATURDAY', 'daysCharged': 0},\n     {'dayOfWeek': 'SUNDAY', 'daysCharged': 0}]}},\n  {'name': 'EUR_AUD',\n   'type': 'CURRENCY',\n   'displayName': 'EUR/AUD',\n   'pipLocation': -4,\n   'displayPrecision': 5,\n   'tradeUnitsPrecision': 0,\n   'minimumTradeSize': '1',\n   'maximumTrailingStopDistance': '1.00000',\n   'minimumTrailingStopDistance': '0.00050',\n   'maximumPositionSize': '0',\n   'maximumOrderUnits': '100000000',\n   'marginRate': '0.05',\n   'guaranteedStopLossOrderMode': 'ALLOWED',\n   'minimumGuaranteedStopLossDistance': '0.0030',\n   'guaranteedStopLossOrderExecutionPremium': '0.00100',\n   'guaranteedStopLossOrderLevelRestriction': {'volume': '1000000',\n    'priceRange': '0.00250'},\n   'tags': [{'type': 'ASSET_CLASS', 'name': 'CURRENCY'}],\n   'financing': {'longRate': '-0.0154',\n    'shortRate': '-0.0012',\n    'financingDaysOfWeek': [{'dayOfWeek': 'MONDAY', 'daysCharged': 1},\n     {'dayOfWeek': 'TUESDAY', 'daysCharged': 1},\n     {'dayOfWeek': 'WEDNESDAY', 'daysCharged': 3},\n     {'dayOfWeek': 'THURSDAY', 'daysCharged': 1},\n     {'dayOfWeek': 'FRIDAY', 'daysCharged': 1},\n     {'dayOfWeek': 'SATURDAY', 'daysCharged': 0},\n     {'dayOfWeek': 'SUNDAY', 'daysCharged': 0}]}},\n  {'name': 'XAU_XAG',\n   'type': 'METAL',\n   'displayName': 'Gold/Silver',\n   'pipLocation': -2,\n   'displayPrecision': 3,\n   'tradeUnitsPrecision': 0,\n   'minimumTradeSize': '1',\n   'maximumTrailingStopDistance': '100.000',\n   'minimumTrailingStopDistance': '0.050',\n   'maximumPositionSize': '0',\n   'maximumOrderUnits': '10000',\n   'marginRate': '0.2',\n   'guaranteedStopLossOrderMode': 'DISABLED',\n   'tags': [{'type': 'ASSET_CLASS', 'name': 'COMMODITY'}],\n   'financing': {'longRate': '-0.0087',\n    'shortRate': '-0.0141',\n    'financingDaysOfWeek': [{'dayOfWeek': 'MONDAY', 'daysCharged': 1},\n     {'dayOfWeek': 'TUESDAY', 'daysCharged': 1},\n     {'dayOfWeek': 'WEDNESDAY', 'daysCharged': 1},\n     {'dayOfWeek': 'THURSDAY', 'daysCharged': 1},\n     {'dayOfWeek': 'FRIDAY', 'daysCharged': 1},\n     {'dayOfWeek': 'SATURDAY', 'daysCharged': 0},\n     {'dayOfWeek': 'SUNDAY', 'daysCharged': 0}]}},\n  {'name': 'AUD_NZD',\n   'type': 'CURRENCY',\n   'displayName': 'AUD/NZD',\n   'pipLocation': -4,\n   'displayPrecision': 5,\n   'tradeUnitsPrecision': 0,\n   'minimumTradeSize': '1',\n   'maximumTrailingStopDistance': '1.00000',\n   'minimumTrailingStopDistance': '0.00050',\n   'maximumPositionSize': '0',\n   'maximumOrderUnits': '100000000',\n   'marginRate': '0.05',\n   'guaranteedStopLossOrderMode': 'ALLOWED',\n   'minimumGuaranteedStopLossDistance': '0.0030',\n   'guaranteedStopLossOrderExecutionPremium': '0.00100',\n   'guaranteedStopLossOrderLevelRestriction': {'volume': '1000000',\n    'priceRange': '0.00250'},\n   'tags': [{'type': 'ASSET_CLASS', 'name': 'CURRENCY'}],\n   'financing': {'longRate': '-0.0115',\n    'shortRate': '-0.0062',\n    'financingDaysOfWeek': [{'dayOfWeek': 'MONDAY', 'daysCharged': 1},\n     {'dayOfWeek': 'TUESDAY', 'daysCharged': 1},\n     {'dayOfWeek': 'WEDNESDAY', 'daysCharged': 3},\n     {'dayOfWeek': 'THURSDAY', 'daysCharged': 1},\n     {'dayOfWeek': 'FRIDAY', 'daysCharged': 1},\n     {'dayOfWeek': 'SATURDAY', 'daysCharged': 0},\n     {'dayOfWeek': 'SUNDAY', 'daysCharged': 0}]}},\n  {'name': 'EUR_ZAR',\n   'type': 'CURRENCY',\n   'displayName': 'EUR/ZAR',\n   'pipLocation': -4,\n   'displayPrecision': 5,\n   'tradeUnitsPrecision': 0,\n   'minimumTradeSize': '1',\n   'maximumTrailingStopDistance': '1.00000',\n   'minimumTrailingStopDistance': '0.00050',\n   'maximumPositionSize': '0',\n   'maximumOrderUnits': '100000000',\n   'marginRate': '0.05',\n   'guaranteedStopLossOrderMode': 'DISABLED',\n   'tags': [{'type': 'ASSET_CLASS', 'name': 'CURRENCY'}],\n   'financing': {'longRate': '-0.0817',\n    'shortRate': '0.0321',\n    'financingDaysOfWeek': [{'dayOfWeek': 'MONDAY', 'daysCharged': 1},\n     {'dayOfWeek': 'TUESDAY', 'daysCharged': 1},\n     {'dayOfWeek': 'WEDNESDAY', 'daysCharged': 3},\n     {'dayOfWeek': 'THURSDAY', 'daysCharged': 1},\n     {'dayOfWeek': 'FRIDAY', 'daysCharged': 1},\n     {'dayOfWeek': 'SATURDAY', 'daysCharged': 0},\n     {'dayOfWeek': 'SUNDAY', 'daysCharged': 0}]}},\n  {'name': 'HKD_JPY',\n   'type': 'CURRENCY',\n   'displayName': 'HKD/JPY',\n   'pipLocation': -4,\n   'displayPrecision': 5,\n   'tradeUnitsPrecision': 0,\n   'minimumTradeSize': '1',\n   'maximumTrailingStopDistance': '1.00000',\n   'minimumTrailingStopDistance': '0.00050',\n   'maximumPositionSize': '0',\n   'maximumOrderUnits': '100000000',\n   'marginRate': '0.1',\n   'guaranteedStopLossOrderMode': 'DISABLED',\n   'tags': [{'type': 'ASSET_CLASS', 'name': 'CURRENCY'}],\n   'financing': {'longRate': '-0.0102',\n    'shortRate': '-0.0208',\n    'financingDaysOfWeek': [{'dayOfWeek': 'MONDAY', 'daysCharged': 1},\n     {'dayOfWeek': 'TUESDAY', 'daysCharged': 1},\n     {'dayOfWeek': 'WEDNESDAY', 'daysCharged': 3},\n     {'dayOfWeek': 'THURSDAY', 'daysCharged': 1},\n     {'dayOfWeek': 'FRIDAY', 'daysCharged': 1},\n     {'dayOfWeek': 'SATURDAY', 'daysCharged': 0},\n     {'dayOfWeek': 'SUNDAY', 'daysCharged': 0}]}},\n  {'name': 'CHF_JPY',\n   'type': 'CURRENCY',\n   'displayName': 'CHF/JPY',\n   'pipLocation': -2,\n   'displayPrecision': 3,\n   'tradeUnitsPrecision': 0,\n   'minimumTradeSize': '1',\n   'maximumTrailingStopDistance': '100.000',\n   'minimumTrailingStopDistance': '0.050',\n   'maximumPositionSize': '0',\n   'maximumOrderUnits': '100000000',\n   'marginRate': '0.05',\n   'guaranteedStopLossOrderMode': 'DISABLED',\n   'tags': [{'type': 'ASSET_CLASS', 'name': 'CURRENCY'}],\n   'financing': {'longRate': '-0.0144',\n    'shortRate': '-0.0022',\n    'financingDaysOfWeek': [{'dayOfWeek': 'MONDAY', 'daysCharged': 1},\n     {'dayOfWeek': 'TUESDAY', 'daysCharged': 1},\n     {'dayOfWeek': 'WEDNESDAY', 'daysCharged': 3},\n     {'dayOfWeek': 'THURSDAY', 'daysCharged': 1},\n     {'dayOfWeek': 'FRIDAY', 'daysCharged': 1},\n     {'dayOfWeek': 'SATURDAY', 'daysCharged': 0},\n     {'dayOfWeek': 'SUNDAY', 'daysCharged': 0}]}},\n  {'name': 'XCU_USD',\n   'type': 'CFD',\n   'displayName': 'Copper',\n   'pipLocation': -4,\n   'displayPrecision': 5,\n   'tradeUnitsPrecision': 0,\n   'minimumTradeSize': '1',\n   'maximumTrailingStopDistance': '1.00000',\n   'minimumTrailingStopDistance': '0.00050',\n   'maximumPositionSize': '0',\n   'maximumOrderUnits': '1500000',\n   'marginRate': '0.2',\n   'guaranteedStopLossOrderMode': 'DISABLED',\n   'tags': [{'type': 'ASSET_CLASS', 'name': 'COMMODITY'}],\n   'financing': {'longRate': '-0.057',\n    'shortRate': '0.007',\n    'financingDaysOfWeek': [{'dayOfWeek': 'MONDAY', 'daysCharged': 1},\n     {'dayOfWeek': 'TUESDAY', 'daysCharged': 1},\n     {'dayOfWeek': 'WEDNESDAY', 'daysCharged': 1},\n     {'dayOfWeek': 'THURSDAY', 'daysCharged': 1},\n     {'dayOfWeek': 'FRIDAY', 'daysCharged': 1},\n     {'dayOfWeek': 'SATURDAY', 'daysCharged': 1},\n     {'dayOfWeek': 'SUNDAY', 'daysCharged': 1}]}},\n  {'name': 'USB02Y_USD',\n   'type': 'CFD',\n   'displayName': 'US 2Y T-Note',\n   'pipLocation': -2,\n   'displayPrecision': 3,\n   'tradeUnitsPrecision': 0,\n   'minimumTradeSize': '1',\n   'maximumTrailingStopDistance': '100.000',\n   'minimumTrailingStopDistance': '0.050',\n   'maximumPositionSize': '0',\n   'maximumOrderUnits': '200000',\n   'marginRate': '0.2',\n   'guaranteedStopLossOrderMode': 'DISABLED',\n   'tags': [{'type': 'ASSET_CLASS', 'name': 'BOND'}],\n   'financing': {'longRate': '-0.027',\n    'shortRate': '-0.023',\n    'financingDaysOfWeek': [{'dayOfWeek': 'MONDAY', 'daysCharged': 1},\n     {'dayOfWeek': 'TUESDAY', 'daysCharged': 1},\n     {'dayOfWeek': 'WEDNESDAY', 'daysCharged': 1},\n     {'dayOfWeek': 'THURSDAY', 'daysCharged': 1},\n     {'dayOfWeek': 'FRIDAY', 'daysCharged': 1},\n     {'dayOfWeek': 'SATURDAY', 'daysCharged': 1},\n     {'dayOfWeek': 'SUNDAY', 'daysCharged': 1}]}},\n  {'name': 'XAG_NZD',\n   'type': 'METAL',\n   'displayName': 'Silver/NZD',\n   'pipLocation': -4,\n   'displayPrecision': 5,\n   'tradeUnitsPrecision': 0,\n   'minimumTradeSize': '1',\n   'maximumTrailingStopDistance': '1.00000',\n   'minimumTrailingStopDistance': '0.00050',\n   'maximumPositionSize': '0',\n   'maximumOrderUnits': '500000',\n   'marginRate': '0.2',\n   'guaranteedStopLossOrderMode': 'DISABLED',\n   'tags': [{'type': 'ASSET_CLASS', 'name': 'COMMODITY'}],\n   'financing': {'longRate': '-0.0186',\n    'shortRate': '-0.0025',\n    'financingDaysOfWeek': [{'dayOfWeek': 'MONDAY', 'daysCharged': 1},\n     {'dayOfWeek': 'TUESDAY', 'daysCharged': 1},\n     {'dayOfWeek': 'WEDNESDAY', 'daysCharged': 1},\n     {'dayOfWeek': 'THURSDAY', 'daysCharged': 1},\n     {'dayOfWeek': 'FRIDAY', 'daysCharged': 1},\n     {'dayOfWeek': 'SATURDAY', 'daysCharged': 0},\n     {'dayOfWeek': 'SUNDAY', 'daysCharged': 0}]}},\n  {'name': 'XAU_CAD',\n   'type': 'METAL',\n   'displayName': 'Gold/CAD',\n   'pipLocation': -2,\n   'displayPrecision': 3,\n   'tradeUnitsPrecision': 0,\n   'minimumTradeSize': '1',\n   'maximumTrailingStopDistance': '100.000',\n   'minimumTrailingStopDistance': '0.050',\n   'maximumPositionSize': '0',\n   'maximumOrderUnits': '20000',\n   'marginRate': '0.2',\n   'guaranteedStopLossOrderMode': 'DISABLED',\n   'tags': [{'type': 'ASSET_CLASS', 'name': 'COMMODITY'}],\n   'financing': {'longRate': '-0.0126',\n    'shortRate': '-0.0063',\n    'financingDaysOfWeek': [{'dayOfWeek': 'MONDAY', 'daysCharged': 1},\n     {'dayOfWeek': 'TUESDAY', 'daysCharged': 1},\n     {'dayOfWeek': 'WEDNESDAY', 'daysCharged': 1},\n     {'dayOfWeek': 'THURSDAY', 'daysCharged': 1},\n     {'dayOfWeek': 'FRIDAY', 'daysCharged': 1},\n     {'dayOfWeek': 'SATURDAY', 'daysCharged': 0},\n     {'dayOfWeek': 'SUNDAY', 'daysCharged': 0}]}},\n  {'name': 'NZD_HKD',\n   'type': 'CURRENCY',\n   'displayName': 'NZD/HKD',\n   'pipLocation': -4,\n   'displayPrecision': 5,\n   'tradeUnitsPrecision': 0,\n   'minimumTradeSize': '1',\n   'maximumTrailingStopDistance': '1.00000',\n   'minimumTrailingStopDistance': '0.00050',\n   'maximumPositionSize': '0',\n   'maximumOrderUnits': '100000000',\n   'marginRate': '0.1',\n   'guaranteedStopLossOrderMode': 'DISABLED',\n   'tags': [{'type': 'ASSET_CLASS', 'name': 'CURRENCY'}],\n   'financing': {'longRate': '-0.0140',\n    'shortRate': '-0.0176',\n    'financingDaysOfWeek': [{'dayOfWeek': 'MONDAY', 'daysCharged': 1},\n     {'dayOfWeek': 'TUESDAY', 'daysCharged': 1},\n     {'dayOfWeek': 'WEDNESDAY', 'daysCharged': 3},\n     {'dayOfWeek': 'THURSDAY', 'daysCharged': 1},\n     {'dayOfWeek': 'FRIDAY', 'daysCharged': 1},\n     {'dayOfWeek': 'SATURDAY', 'daysCharged': 0},\n     {'dayOfWeek': 'SUNDAY', 'daysCharged': 0}]}},\n  {'name': 'AUD_JPY',\n   'type': 'CURRENCY',\n   'displayName': 'AUD/JPY',\n   'pipLocation': -2,\n   'displayPrecision': 3,\n   'tradeUnitsPrecision': 0,\n   'minimumTradeSize': '1',\n   'maximumTrailingStopDistance': '100.000',\n   'minimumTrailingStopDistance': '0.050',\n   'maximumPositionSize': '0',\n   'maximumOrderUnits': '100000000',\n   'marginRate': '0.05',\n   'guaranteedStopLossOrderMode': 'ALLOWED',\n   'minimumGuaranteedStopLossDistance': '0.15',\n   'guaranteedStopLossOrderExecutionPremium': '0.100',\n   'guaranteedStopLossOrderLevelRestriction': {'volume': '1000000',\n    'priceRange': '0.250'},\n   'tags': [{'type': 'ASSET_CLASS', 'name': 'CURRENCY'}],\n   'financing': {'longRate': '-0.0051',\n    'shortRate': '-0.0118',\n    'financingDaysOfWeek': [{'dayOfWeek': 'MONDAY', 'daysCharged': 1},\n     {'dayOfWeek': 'TUESDAY', 'daysCharged': 1},\n     {'dayOfWeek': 'WEDNESDAY', 'daysCharged': 3},\n     {'dayOfWeek': 'THURSDAY', 'daysCharged': 1},\n     {'dayOfWeek': 'FRIDAY', 'daysCharged': 1},\n     {'dayOfWeek': 'SATURDAY', 'daysCharged': 0},\n     {'dayOfWeek': 'SUNDAY', 'daysCharged': 0}]}},\n  {'name': 'USD_CNH',\n   'type': 'CURRENCY',\n   'displayName': 'USD/CNH',\n   'pipLocation': -4,\n   'displayPrecision': 5,\n   'tradeUnitsPrecision': 0,\n   'minimumTradeSize': '1',\n   'maximumTrailingStopDistance': '1.00000',\n   'minimumTrailingStopDistance': '0.00050',\n   'maximumPositionSize': '0',\n   'maximumOrderUnits': '100000000',\n   'marginRate': '0.05',\n   'guaranteedStopLossOrderMode': 'DISABLED',\n   'tags': [{'type': 'ASSET_CLASS', 'name': 'CURRENCY'}],\n   'financing': {'longRate': '-0.0347',\n    'shortRate': '0.0080',\n    'financingDaysOfWeek': [{'dayOfWeek': 'MONDAY', 'daysCharged': 1},\n     {'dayOfWeek': 'TUESDAY', 'daysCharged': 1},\n     {'dayOfWeek': 'WEDNESDAY', 'daysCharged': 3},\n     {'dayOfWeek': 'THURSDAY', 'daysCharged': 1},\n     {'dayOfWeek': 'FRIDAY', 'daysCharged': 1},\n     {'dayOfWeek': 'SATURDAY', 'daysCharged': 0},\n     {'dayOfWeek': 'SUNDAY', 'daysCharged': 0}]}},\n  {'name': 'GBP_ZAR',\n   'type': 'CURRENCY',\n   'displayName': 'GBP/ZAR',\n   'pipLocation': -4,\n   'displayPrecision': 5,\n   'tradeUnitsPrecision': 0,\n   'minimumTradeSize': '1',\n   'maximumTrailingStopDistance': '1.00000',\n   'minimumTrailingStopDistance': '0.00050',\n   'maximumPositionSize': '0',\n   'maximumOrderUnits': '100000000',\n   'marginRate': '0.05',\n   'guaranteedStopLossOrderMode': 'DISABLED',\n   'tags': [{'type': 'ASSET_CLASS', 'name': 'CURRENCY'}],\n   'financing': {'longRate': '-0.0758',\n    'shortRate': '0.0263',\n    'financingDaysOfWeek': [{'dayOfWeek': 'MONDAY', 'daysCharged': 1},\n     {'dayOfWeek': 'TUESDAY', 'daysCharged': 1},\n     {'dayOfWeek': 'WEDNESDAY', 'daysCharged': 3},\n     {'dayOfWeek': 'THURSDAY', 'daysCharged': 1},\n     {'dayOfWeek': 'FRIDAY', 'daysCharged': 1},\n     {'dayOfWeek': 'SATURDAY', 'daysCharged': 0},\n     {'dayOfWeek': 'SUNDAY', 'daysCharged': 0}]}}],\n 'lastTransactionID': '3'}"
     },
     "metadata": {},
     "execution_count": 7
    }
   ],
   "source": [
    "AccountController.get_tradeable_instruments(account_id)"
   ]
  },
  {
   "cell_type": "code",
   "execution_count": 8,
   "metadata": {},
   "outputs": [
    {
     "output_type": "execute_result",
     "data": {
      "text/plain": "{'instruments': [{'name': 'USB05Y_USD',\n   'type': 'CFD',\n   'displayName': 'US 5Y T-Note',\n   'pipLocation': -2,\n   'displayPrecision': 3,\n   'tradeUnitsPrecision': 0,\n   'minimumTradeSize': '1',\n   'maximumTrailingStopDistance': '100.000',\n   'minimumTrailingStopDistance': '0.050',\n   'maximumPositionSize': '0',\n   'maximumOrderUnits': '200000',\n   'marginRate': '0.2',\n   'guaranteedStopLossOrderMode': 'DISABLED',\n   'tags': [{'type': 'ASSET_CLASS', 'name': 'BOND'}],\n   'financing': {'longRate': '-0.023',\n    'shortRate': '-0.027',\n    'financingDaysOfWeek': [{'dayOfWeek': 'MONDAY', 'daysCharged': 1},\n     {'dayOfWeek': 'TUESDAY', 'daysCharged': 1},\n     {'dayOfWeek': 'WEDNESDAY', 'daysCharged': 1},\n     {'dayOfWeek': 'THURSDAY', 'daysCharged': 1},\n     {'dayOfWeek': 'FRIDAY', 'daysCharged': 1},\n     {'dayOfWeek': 'SATURDAY', 'daysCharged': 1},\n     {'dayOfWeek': 'SUNDAY', 'daysCharged': 1}]}}],\n 'lastTransactionID': '3'}"
     },
     "metadata": {},
     "execution_count": 8
    }
   ],
   "source": [
    "AccountController.get_tradeable_instruments(account_id, instruments=[\"USB05Y_USD\"])"
   ]
  },
  {
   "cell_type": "code",
   "execution_count": null,
   "metadata": {},
   "outputs": [],
   "source": []
  }
 ],
 "metadata": {
  "kernelspec": {
   "display_name": "Python 3.8.5 64-bit ('poandy': conda)",
   "language": "python",
   "name": "python_defaultSpec_1599520022314"
  },
  "language_info": {
   "codemirror_mode": {
    "name": "ipython",
    "version": 3
   },
   "file_extension": ".py",
   "mimetype": "text/x-python",
   "name": "python",
   "nbconvert_exporter": "python",
   "pygments_lexer": "ipython3",
   "version": "3.8.5-final"
  }
 },
 "nbformat": 4,
 "nbformat_minor": 2
}